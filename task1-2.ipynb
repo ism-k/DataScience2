{
 "cells": [
  {
   "cell_type": "markdown",
   "metadata": {},
   "source": [
    "- 日本地図上にアメダス地点で測定した気温データを可視化する\n",
    "- アメダス地点が緯度経度のメッシュの中でどのように配置されているか図示する"
   ]
  },
  {
   "cell_type": "code",
   "execution_count": 1,
   "metadata": {
    "collapsed": true,
    "pycharm": {
     "is_executing": false
    }
   },
   "outputs": [],
   "source": [
    "import matplotlib.pyplot as plt\n",
    "import pandas as pd\n",
    "import cartopy.crs as ccrs\n",
    "import cartopy.feature as cfeature\n",
    "import matplotlib.ticker as mticker\n",
    "import matplotlib.path as mpath\n",
    "import numpy as np"
   ]
  },
  {
   "cell_type": "code",
   "execution_count": 2,
   "metadata": {
    "pycharm": {
     "is_executing": false,
     "name": "#%%\n"
    }
   },
   "outputs": [
    {
     "name": "stdout",
     "output_type": "stream",
     "text": [
      "      Unnamed: 0                 date  observer  station  latitude  longitude  \\\n",
      "0              0  2018-01-01 00:00:00         1    11001   45.5200   141.9350   \n",
      "1              1  2018-01-01 00:00:00         1    11016   45.4150   141.6783   \n",
      "2              2  2018-01-01 00:00:00         1    11046   45.3050   141.0450   \n",
      "3              3  2018-01-01 00:00:00         1    11061   45.4033   141.8017   \n",
      "4              4  2018-01-01 00:00:00         1    11076   45.3350   142.1700   \n",
      "...          ...                  ...       ...      ...       ...        ...   \n",
      "6503        6503  2018-01-07 00:00:00         1    94081   24.3367   124.1633   \n",
      "6504        6504  2018-01-07 00:00:00         1    94086   24.3950   124.2450   \n",
      "6505        6505  2018-01-07 00:00:00         1    94101   24.2650   123.8717   \n",
      "6506        6506  2018-01-07 00:00:00         1    94116   24.0550   123.7667   \n",
      "6507        6507  2018-01-07 00:00:00         1    94121   24.0583   123.8033   \n",
      "\n",
      "      row(0-3119)  column(0-2599)  altitude  temperature  penalty  location  \\\n",
      "0              57            1594        26        -0.70        0       宗谷岬   \n",
      "1              70            1574         3        -1.99        0        中央   \n",
      "2              83            1523        65         0.38        0       香深村   \n",
      "3              71            1584         8        -4.89        0  声問村（メクマ）   \n",
      "4              79            1613        13        -0.58        0      浜鬼志別   \n",
      "...           ...             ...       ...          ...      ...       ...   \n",
      "6503         2599             173         6        17.77        0       登野城   \n",
      "6504         2592             179        31        17.75        0        盛山   \n",
      "6505         2608             149        33        17.27        0       南風見   \n",
      "6506         2633             141        38        17.64        0       波照間   \n",
      "6507         2633             144        13        18.09        0       波照間   \n",
      "\n",
      "      distance  \n",
      "0     0.000309  \n",
      "1     0.000002  \n",
      "2     0.000037  \n",
      "3     0.000060  \n",
      "4     0.000064  \n",
      "...        ...  \n",
      "6503  0.000013  \n",
      "6504  0.000124  \n",
      "6505  0.000118  \n",
      "6506  0.000118  \n",
      "6507  0.000676  \n",
      "\n",
      "[6508 rows x 13 columns]\n"
     ]
    }
   ],
   "source": [
    "path = './all3-name.csv'\n",
    "df = pd.read_csv(path, sep=',')\n",
    "print(df)"
   ]
  },
  {
   "cell_type": "markdown",
   "metadata": {
    "pycharm": {
     "name": "#%% md\n"
    }
   },
   "source": [
    "とりあえず地点のプロット"
   ]
  },
  {
   "cell_type": "code",
   "execution_count": 13,
   "metadata": {
    "pycharm": {
     "is_executing": false,
     "name": "#%%\n"
    }
   },
   "outputs": [
    {
     "data": {
      "text/plain": "<Figure size 432x288 with 2 Axes>",
      "image/png": "[encoded data removed]"
     },
     "metadata": {
      "needs_background": "light"
     },
     "output_type": "display_data"
    }
   ],
   "source": [
    "plt.scatter(df['longitude'], df['latitude'],c=df['temperature'],cmap='jet',s=1)\n",
    "plt.colorbar()\n",
    "plt.title('2018 - temperature')\n",
    "plt.show()"
   ]
  },
  {
   "cell_type": "code",
   "execution_count": 21,
   "metadata": {
    "pycharm": {
     "name": "#%%\n",
     "is_executing": false
    }
   },
   "outputs": [
    {
     "name": "stdout",
     "text": [
      "[20.0083     20.02501492 20.04172984 ... 45.96657016 45.98328508\n",
      " 46.        ]\n"
     ],
     "output_type": "stream"
    }
   ],
   "source": [
    "min_longitude = 122.0000\n",
    "max_longitude = 154.4875\n",
    "min_latitude  =  20.0083\n",
    "max_latitude  =  46.0000\n",
    "\n",
    "mesh_longitude = np.linspace(min_longitude, max_longitude, 2600)\n",
    "mesh_latitude  = np.linspace(min_latitude,  max_latitude , 1556)\n",
    "print(mesh_latitude)"
   ]
  },
  {
   "cell_type": "code",
   "execution_count": 20,
   "outputs": [
    {
     "data": {
      "text/plain": "<Figure size 432x288 with 1 Axes>",
      "image/png": "[encoded data removed]"
     },
     "metadata": {},
     "output_type": "display_data"
    }
   ],
   "source": [
    "fig, ax = plt.subplots(facecolor = 'w')\n",
    "ax.scatter(df['longitude'], df['latitude'],c=df['temperature'],cmap='jet',s=1)\n",
    "# ax.colorbar()\n",
    "# ax.title('2018 - temperature')\n",
    "ax.set_xticks(mesh_longitude)\n",
    "ax.set_yticks(mesh_latitude)\n",
    "plt.show()"
   ],
   "metadata": {
    "collapsed": false,
    "pycharm": {
     "name": "#%%\n",
     "is_executing": false
    }
   }
  },
  {
   "cell_type": "code",
   "execution_count": null,
   "outputs": [],
   "source": [
    "\n"
   ],
   "metadata": {
    "collapsed": false,
    "pycharm": {
     "name": "#%%\n"
    }
   }
  }
 ],
 "metadata": {
  "kernelspec": {
   "display_name": "Python 3",
   "language": "python",
   "name": "python3"
  },
  "language_info": {
   "codemirror_mode": {
    "name": "ipython",
    "version": 3
   },
   "file_extension": ".py",
   "mimetype": "text/x-python",
   "name": "python",
   "nbconvert_exporter": "python",
   "pygments_lexer": "ipython3",
   "version": "3.7.6"
  },
  "pycharm": {
   "stem_cell": {
    "cell_type": "raw",
    "source": [],
    "metadata": {
     "collapsed": false
    }
   }
  }
 },
 "nbformat": 4,
 "nbformat_minor": 1
}